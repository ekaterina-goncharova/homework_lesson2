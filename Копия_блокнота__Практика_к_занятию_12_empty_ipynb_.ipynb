{
  "nbformat": 4,
  "nbformat_minor": 0,
  "metadata": {
    "colab": {
      "name": "Копия блокнота \"Практика_к_занятию_12-empty.ipynb\"",
      "provenance": [],
      "collapsed_sections": []
    },
    "kernelspec": {
      "name": "python3",
      "display_name": "Python 3"
    }
  },
  "cells": [
    {
      "cell_type": "markdown",
      "metadata": {
        "id": "pDrecLU-4QjS"
      },
      "source": [
        "# Практика"
      ]
    },
    {
      "cell_type": "code",
      "metadata": {
        "id": "a6XFMuQUG6jO"
      },
      "source": [
        "import pandas as pd\n",
        "import numpy as np\n",
        "import matplotlib.pyplot as plt\n",
        "import scipy.stats as sts\n",
        "import math\n",
        "%matplotlib inline"
      ],
      "execution_count": 1,
      "outputs": []
    },
    {
      "cell_type": "markdown",
      "metadata": {
        "id": "5owLnS0MHJnz"
      },
      "source": [
        "## ЦПТ для различных распределений\n",
        "Возьмите то непрерывное распределение, которое вам больше всего понравится из списка доступных в модуле [scipy.stats](https://docs.scipy.org/doc/scipy/reference/stats.html)."
      ]
    },
    {
      "cell_type": "markdown",
      "metadata": {
        "id": "v1IvIGF9IRgH"
      },
      "source": [
        "### Сгенерируйте примеры из распределения"
      ]
    },
    {
      "cell_type": "code",
      "metadata": {
        "id": "l4oTC1NSHvl7"
      },
      "source": [
        "# ваш код тут\n",
        "# распределение https://docs.scipy.org/doc/scipy/reference/generated/scipy.stats.laplace.html#scipy.stats.laplace\n"
      ],
      "execution_count": 2,
      "outputs": []
    },
    {
      "cell_type": "code",
      "metadata": {
        "colab": {
          "base_uri": "https://localhost:8080/"
        },
        "id": "NNAlmB8NcnwV",
        "outputId": "9dcffd14-033c-4688-a547-faab238078d1"
      },
      "source": [
        "laplace_rv = sts.laplace()\n",
        "sample = laplace_rv.rvs(100)\n",
        "sample\n",
        "\n"
      ],
      "execution_count": 3,
      "outputs": [
        {
          "output_type": "execute_result",
          "data": {
            "text/plain": [
              "array([ 1.52680502e-01,  4.37638534e-01, -4.08989019e-01,  1.08700624e+00,\n",
              "       -9.02336163e-02,  4.01356248e-01,  9.46564299e-01,  1.52086035e+00,\n",
              "       -1.14910382e+00, -1.65343347e+00,  6.17810417e-01,  1.68799309e+00,\n",
              "       -2.02692307e+00,  1.14664788e+00, -7.16194010e-01,  5.76798023e-01,\n",
              "       -9.79855716e-01, -7.19222993e-01, -1.55215443e+00, -2.18722688e+00,\n",
              "        1.12936181e+00, -5.42030541e-01, -1.97160618e+00, -6.24069477e-01,\n",
              "        2.04071174e-01,  1.20172887e+00,  6.12948366e-01,  1.89339906e-03,\n",
              "        1.67770121e+00, -4.42432531e-02, -4.08640656e-01, -7.11372133e-02,\n",
              "       -1.53749093e-01,  3.08191529e+00, -4.65595983e-01,  2.03244169e+00,\n",
              "       -5.39205760e-01, -4.41318316e-02, -6.77208495e-01, -1.50874846e-01,\n",
              "       -4.09309166e-01, -9.08552272e-01,  6.04528011e-02,  1.26803831e+00,\n",
              "        4.15648507e-01, -2.16413613e-01, -3.33853921e-01, -6.21263906e-01,\n",
              "        2.11138271e-02,  1.54681228e+00,  4.62616207e-01,  5.51207224e-01,\n",
              "       -1.08473270e-02, -5.98942170e-01,  1.77445998e+00,  6.82273357e-01,\n",
              "       -1.58059418e-01,  3.05568635e-01,  1.42323993e+00,  1.45745667e+00,\n",
              "        7.06636806e-02, -5.52546196e-01,  3.35074555e-01, -1.89286827e-01,\n",
              "        5.02788786e-01,  2.17219048e+00,  5.08566284e-01,  2.24714601e+00,\n",
              "       -2.35109379e+00,  4.67790081e-02,  1.28941301e+00,  5.81860062e-01,\n",
              "       -9.59119760e-01, -1.02769393e-01, -4.63982110e-01,  5.06210349e-02,\n",
              "        1.65832202e-01,  8.52790809e-01,  8.80474139e-01,  1.94257157e+00,\n",
              "       -3.67065920e-02,  6.29008254e-02, -2.42628708e+00,  1.28153223e+00,\n",
              "       -1.07066576e+00,  2.19914156e+00, -2.70747186e+00,  8.95771936e-02,\n",
              "        2.11686738e-01,  1.11775427e-01, -2.13191600e+00, -5.01131156e-01,\n",
              "       -9.39837952e-01, -3.91764274e-01,  8.64929126e-01, -2.81625637e+00,\n",
              "       -1.76989264e-01, -2.90374470e+00, -1.08379491e+00,  9.21844113e-01])"
            ]
          },
          "metadata": {
            "tags": []
          },
          "execution_count": 3
        }
      ]
    },
    {
      "cell_type": "code",
      "metadata": {
        "colab": {
          "base_uri": "https://localhost:8080/"
        },
        "id": "QaJW8d4ug5rt",
        "outputId": "1aa8792e-151a-4aa9-9a21-dfaa2ad254de"
      },
      "source": [
        "sample.dtype"
      ],
      "execution_count": 4,
      "outputs": [
        {
          "output_type": "execute_result",
          "data": {
            "text/plain": [
              "dtype('float64')"
            ]
          },
          "metadata": {
            "tags": []
          },
          "execution_count": 4
        }
      ]
    },
    {
      "cell_type": "code",
      "metadata": {
        "colab": {
          "base_uri": "https://localhost:8080/"
        },
        "id": "SHoawLofhEoZ",
        "outputId": "20977394-82ef-4546-db18-9d46ba7979fe"
      },
      "source": [
        "real_mean = laplace_rv.mean() # настоящее среднее случайной величины\n",
        "real_mean"
      ],
      "execution_count": 5,
      "outputs": [
        {
          "output_type": "execute_result",
          "data": {
            "text/plain": [
              "0.0"
            ]
          },
          "metadata": {
            "tags": []
          },
          "execution_count": 5
        }
      ]
    },
    {
      "cell_type": "code",
      "metadata": {
        "colab": {
          "base_uri": "https://localhost:8080/"
        },
        "id": "P50d4Um8hMQ_",
        "outputId": "672a6a7c-d026-4db7-dca8-5621a482e26d"
      },
      "source": [
        "real_var = laplace_rv.var() # настоящая дисперсия случайной величины\n",
        "real_var"
      ],
      "execution_count": 6,
      "outputs": [
        {
          "output_type": "execute_result",
          "data": {
            "text/plain": [
              "2.0"
            ]
          },
          "metadata": {
            "tags": []
          },
          "execution_count": 6
        }
      ]
    },
    {
      "cell_type": "markdown",
      "metadata": {
        "id": "4bNn15giIX77"
      },
      "source": [
        "### Постройте гистограмму выборки и теоретическую плотность распределения"
      ]
    },
    {
      "cell_type": "code",
      "metadata": {
        "id": "CwbvqecvIcXN",
        "colab": {
          "base_uri": "https://localhost:8080/",
          "height": 285
        },
        "outputId": "a417494d-f4ef-4b09-b4c3-9c005bf81897"
      },
      "source": [
        "# ваш код тут\n",
        "plt.hist(sample, density=True)\n",
        "x = np.linspace(-4,4,100)\n",
        "pdf = laplace_rv.pdf(x)\n",
        "plt.plot(x, pdf, label='теоретическая плотность', alpha=0.5)\n",
        "plt.legend()"
      ],
      "execution_count": 7,
      "outputs": [
        {
          "output_type": "execute_result",
          "data": {
            "text/plain": [
              "<matplotlib.legend.Legend at 0x7fb7e5d423d0>"
            ]
          },
          "metadata": {
            "tags": []
          },
          "execution_count": 7
        },
        {
          "output_type": "display_data",
          "data": {
            "image/png": "[encoded data removed]",
            "text/plain": [
              "<Figure size 432x288 with 1 Axes>"
            ]
          },
          "metadata": {
            "tags": [],
            "needs_background": "light"
          }
        }
      ]
    },
    {
      "cell_type": "code",
      "metadata": {
        "id": "rKd5XFelBqe7",
        "colab": {
          "base_uri": "https://localhost:8080/"
        },
        "outputId": "d6dacbff-0f99-442e-d15e-e67120aecfad"
      },
      "source": [
        "sample_mean = sample.mean() # выборочное среднее\n",
        "print(sample_mean)\n",
        "sample_var = sample.var() # выборочная дисперсия\n",
        "print(sample_var)"
      ],
      "execution_count": 8,
      "outputs": [
        {
          "output_type": "stream",
          "text": [
            "0.03638027855459261\n",
            "1.374810241875214\n"
          ],
          "name": "stdout"
        }
      ]
    },
    {
      "cell_type": "markdown",
      "metadata": {
        "id": "qPuHR68NId_Z"
      },
      "source": [
        "### Оценим распределение выборочного среднего для разных объёмов выборок\n",
        "Для этого постройте на одном полотне гистограмму выборочных средних и теоретическое распределение выборочных средних по ЦПТ для разных объёмов выборок.\n",
        "\n",
        "Для теоретического распределение используйте настоящие значения мат ожидания и дисперсии (не приближенные на основе выборки)."
      ]
    },
    {
      "cell_type": "code",
      "metadata": {
        "id": "_mB8upK7J58w",
        "colab": {
          "base_uri": "https://localhost:8080/",
          "height": 495
        },
        "outputId": "e8e9a267-cd93-4599-90c3-6a96078d8bb6"
      },
      "source": [
        "# ваш код тут\n",
        "# если сгенерировать выборочные средние и построить гистограмму\n",
        "a = 1\n",
        "b = 7\n",
        "uniform_rv = sts.uniform(a, b-a)\n",
        "N = 100\n",
        "means = []\n",
        "for i in range(1000):\n",
        "  means.append(np.mean(uniform_rv.rvs(N)))\n",
        "plt.hist(means, density=True, bins='auto')\n"
      ],
      "execution_count": 15,
      "outputs": [
        {
          "output_type": "execute_result",
          "data": {
            "text/plain": [
              "(array([0.02206131, 0.        , 0.        , 0.02206131, 0.04412262,\n",
              "        0.06618393, 0.1985518 , 0.35298098, 0.30885836, 0.77214589,\n",
              "        1.14718818, 1.65459834, 1.83108883, 1.98551801, 2.58117341,\n",
              "        2.40468292, 1.98551801, 1.58841441, 1.63253703, 1.41192392,\n",
              "        0.61771671, 0.86039114, 0.35298098, 0.08824524, 0.11030656,\n",
              "        0.        , 0.        , 0.02206131]),\n",
              " array([3.31635003, 3.36167825, 3.40700647, 3.45233469, 3.49766291,\n",
              "        3.54299114, 3.58831936, 3.63364758, 3.6789758 , 3.72430402,\n",
              "        3.76963224, 3.81496046, 3.86028869, 3.90561691, 3.95094513,\n",
              "        3.99627335, 4.04160157, 4.08692979, 4.13225801, 4.17758624,\n",
              "        4.22291446, 4.26824268, 4.3135709 , 4.35889912, 4.40422734,\n",
              "        4.44955556, 4.49488379, 4.54021201, 4.58554023]),\n",
              " <a list of 28 Patch objects>)"
            ]
          },
          "metadata": {
            "tags": []
          },
          "execution_count": 15
        },
        {
          "output_type": "display_data",
          "data": {
            "image/png": "[encoded data removed]",
            "text/plain": [
              "<Figure size 432x288 with 1 Axes>"
            ]
          },
          "metadata": {
            "tags": [],
            "needs_background": "light"
          }
        }
      ]
    },
    {
      "cell_type": "markdown",
      "metadata": {
        "id": "TF1onBy_J7sX"
      },
      "source": [
        "Как вы считаете, для выбранного распределения апроксимация распределения выборочного среднего работает хорошо или плохо?\n",
        "**Ваш ответ:**"
      ]
    },
    {
      "cell_type": "code",
      "metadata": {
        "id": "1BEsK495KIuM"
      },
      "source": [
        ""
      ],
      "execution_count": null,
      "outputs": []
    },
    {
      "cell_type": "markdown",
      "metadata": {
        "id": "xEyWxfjSfxGp"
      },
      "source": [
        "## Доверительный интервал на основе ЦПТ\n",
        "Возьмите данные для оттока телеком компании, и постройте доверительные интервалы для среднего значения total day calls, используя центральную предельную теорему в разбиении по колонке churn (ушел/не ушел). \n",
        "\n",
        "Для оценки дисперсии используйте несмещенную оценку (параметр ddof=1).\n",
        "\n",
        "Сделайте оценку с использованием явной формулы для z интервала, а затем с помощью функций \n",
        "`from statsmodels.stats.weightstats import _zconfint_generic`. Сравните результаты.\n",
        "\n",
        "\n",
        "Ссылка на данные: https://drive.google.com/file/d/1X_drKqoarnU2Sz2har7uSCsgyhh8Xtz8/view?usp=sharing"
      ]
    },
    {
      "cell_type": "code",
      "metadata": {
        "id": "56V0za8GfxeL"
      },
      "source": [
        "from google.colab import files\n",
        "uploaded = files.upload()"
      ],
      "execution_count": null,
      "outputs": []
    },
    {
      "cell_type": "code",
      "metadata": {
        "id": "FZYOWZxOlofD"
      },
      "source": [
        "telecom_df = pd.read_csv('telecom_churn.csv')\n",
        "telecom_df"
      ],
      "execution_count": null,
      "outputs": []
    },
    {
      "cell_type": "code",
      "metadata": {
        "id": "xaEs_3sFn9Gw"
      },
      "source": [
        "tele_df = telecom_df[['total day calls','churn']]\n",
        "tele_df"
      ],
      "execution_count": null,
      "outputs": []
    },
    {
      "cell_type": "code",
      "metadata": {
        "id": "wmW0LvtoqAW9"
      },
      "source": [
        "tele1_df = tele_df.loc[tele_df['churn'] == False]\n",
        "tele1_df\n"
      ],
      "execution_count": null,
      "outputs": []
    },
    {
      "cell_type": "code",
      "metadata": {
        "id": "WG5X5vwxfV-l"
      },
      "source": [
        "tele1_dfList = list(tele1_df['total day calls'])\n"
      ],
      "execution_count": null,
      "outputs": []
    },
    {
      "cell_type": "code",
      "metadata": {
        "id": "P3TGbUA1sd4Z"
      },
      "source": [
        "tele2_df = tele_df.loc[tele_df['churn'] == True]\n",
        "tele2_df"
      ],
      "execution_count": null,
      "outputs": []
    },
    {
      "cell_type": "code",
      "metadata": {
        "id": "k8vEuUpof1CO"
      },
      "source": [
        "tele2_dfList = list(tele1_df['total day calls'])"
      ],
      "execution_count": null,
      "outputs": []
    },
    {
      "cell_type": "code",
      "metadata": {
        "id": "RAFGogeJdNFO"
      },
      "source": [
        "from scipy import stats\n",
        " \n",
        "X1=np.array(tele1_dfList)\n",
        "Xmean=X1.mean()\n",
        "Xstd=X1.std(ddof=1)\n",
        "interval=stats.t.interval(0.95,len(X1-1),Xmean,Xstd)\n",
        "interval\n"
      ],
      "execution_count": null,
      "outputs": []
    },
    {
      "cell_type": "code",
      "metadata": {
        "id": "Ti-o3FsQf0Lw"
      },
      "source": [
        "X1=np.array(tele2_dfList)\n",
        "Xmean=X1.mean()\n",
        "Xstd=X1.std(ddof=1)\n",
        "interval=stats.t.interval(0.95,len(X1-1),Xmean,Xstd)\n",
        "interval"
      ],
      "execution_count": null,
      "outputs": []
    },
    {
      "cell_type": "code",
      "metadata": {
        "id": "x9yxyovrgubU"
      },
      "source": [
        "import statistics"
      ],
      "execution_count": null,
      "outputs": []
    },
    {
      "cell_type": "code",
      "metadata": {
        "id": "a5WAuWbng4c_"
      },
      "source": [
        "print(statistics.variance(tele1_dfList)) # посчитала статистику"
      ],
      "execution_count": null,
      "outputs": []
    },
    {
      "cell_type": "code",
      "metadata": {
        "id": "iewaSTX6honJ"
      },
      "source": [
        "print(statistics.variance(tele2_dfList))"
      ],
      "execution_count": null,
      "outputs": []
    }
  ]
}