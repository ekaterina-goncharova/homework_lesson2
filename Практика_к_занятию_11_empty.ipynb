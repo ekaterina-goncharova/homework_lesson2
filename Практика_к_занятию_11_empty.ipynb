{
  "nbformat": 4,
  "nbformat_minor": 0,
  "metadata": {
    "colab": {
      "name": "Практика_к_занятию_11 empty.ipynb",
      "provenance": [],
      "collapsed_sections": [
        "hNVxtaz5c57b"
      ]
    },
    "kernelspec": {
      "display_name": "Python 3",
      "language": "python",
      "name": "python3"
    },
    "language_info": {
      "codemirror_mode": {
        "name": "ipython",
        "version": 3
      },
      "file_extension": ".py",
      "mimetype": "text/x-python",
      "name": "python",
      "nbconvert_exporter": "python",
      "pygments_lexer": "ipython3",
      "version": "3.7.6"
    }
  },
  "cells": [
    {
      "cell_type": "markdown",
      "metadata": {
        "id": "pDrecLU-4QjS"
      },
      "source": [
        "# Практика"
      ]
    },
    {
      "cell_type": "markdown",
      "metadata": {
        "id": "gUvTNDlMaV-a"
      },
      "source": [
        "## Определение вероятности. События\n",
        "\n",
        "Требуется сгенерировать необходимые выборки и произвести по ним расчеты"
      ]
    },
    {
      "cell_type": "code",
      "metadata": {
        "id": "-VQ8ewQoelrc"
      },
      "source": [
        "import pandas as pd\n",
        "import numpy as np\n",
        "import matplotlib.pyplot as plt\n",
        "import scipy.stats as sts\n",
        "%matplotlib inline"
      ],
      "execution_count": 1,
      "outputs": []
    },
    {
      "cell_type": "markdown",
      "metadata": {
        "id": "5V70InEBTgup"
      },
      "source": [
        "### Задача 1\n",
        "Брошено две монеты. Найти вероятность того, что монеты выпали разными сторонами"
      ]
    },
    {
      "cell_type": "code",
      "metadata": {
        "colab": {
          "base_uri": "https://localhost:8080/"
        },
        "id": "H0-5xpzIeo9P",
        "outputId": "a666f4a4-5f7e-4d86-f9b3-bde4214c2c44"
      },
      "source": [
        "N = 1000\n",
        "sample = np.random.choice([0, 1], N)\n",
        "sample1 = np.random.choice([0, 1], N)\n",
        "list = sample.tolist()\n",
        "list_1 = sample1.tolist()\n",
        "list_2 = [i for i, j in zip(list, list_1) if i != j]\n",
        "a = len(list_2)\n",
        "print(a/N)\n",
        "\n"
      ],
      "execution_count": 2,
      "outputs": [
        {
          "output_type": "stream",
          "text": [
            "0.489\n"
          ],
          "name": "stdout"
        }
      ]
    },
    {
      "cell_type": "code",
      "metadata": {
        "id": "88Iw-SL3jYQV"
      },
      "source": [
        "# Всего возможно 4 варианта событий: ОО, ОР, РО, РР. монеты выпали разными сторонами в 2 случаях. Вероятность составляет 2/4 = 1/2\n"
      ],
      "execution_count": 3,
      "outputs": []
    },
    {
      "cell_type": "markdown",
      "metadata": {
        "id": "t0XOMos2Tl0e"
      },
      "source": [
        "### Задача 2\n",
        "Брошено три монеты. Описать множество всех элементарных событий. Найти вероятности следующих событий:\n",
        "\n",
        "\n",
        "1.   A = {не выпало ни одного герба}\n",
        "2.   B = {выпало четное число гербов}\n",
        "3.   C = {на третьей монете выпал герб}\n"
      ]
    },
    {
      "cell_type": "code",
      "metadata": {
        "id": "o7NjAE9uUo-L",
        "colab": {
          "base_uri": "https://localhost:8080/"
        },
        "outputId": "ea4b8196-1f83-402a-8576-3068c187f128"
      },
      "source": [
        "N = 1000\n",
        "sample = np.random.choice([0, 1], N)\n",
        "sample1 = np.random.choice([0, 1], N)\n",
        "sample2 = np.random.choice([0, 1], N)\n",
        "list = sample.tolist()\n",
        "list1 = sample1.tolist()\n",
        "list2 = sample2.tolist()\n",
        "list_3 = [i for i, j, k in zip(list, list_1, list_2) if i == j == k == 0]\n",
        "a = len(list_3)\n",
        "list_4 = [i for i, j, k in zip(list, list_1, list_2) if k == 1] \n",
        "b = len(list_4)\n",
        "list_5 = [i for i, j, k in zip(list, list_1, list_2) if i == j == 1 or j == k == 1 or i == k == 1]\n",
        "c = len(list_5)\n",
        "print(a/N)\n",
        "print(c/N)\n",
        "print(b/N)"
      ],
      "execution_count": 4,
      "outputs": [
        {
          "output_type": "stream",
          "text": [
            "0.058\n",
            "0.238\n",
            "0.246\n"
          ],
          "name": "stdout"
        }
      ]
    },
    {
      "cell_type": "code",
      "metadata": {
        "id": "BtMvcslY224N"
      },
      "source": [
        "# всего получаем 8 возможных исходов. ООО, ООР, ОРР, ОРО, РРР, РРО, РОО, РОР. вероятность получаем: 1 - 1/8, 2 - 3/8, 3 - 3/8"
      ],
      "execution_count": 5,
      "outputs": []
    },
    {
      "cell_type": "markdown",
      "metadata": {
        "id": "vMfJGwp9depS"
      },
      "source": [
        "Предлагается также решить задачи: \n",
        "\n",
        "### Задача 3\n",
        "Из двух претендентов E и L на ответственную должность три члена комиссии должны отобрать одного. Каждый член комиссии должен указать либо одного достойного, либо забраковать обоих. Претендент считается выбранным, если он был признана достойным хотя бы двумя членами комиссии.\n",
        "Найти вероятность событий:\n",
        "\n",
        "A = {рекомендован L}, B = {рекомендован E}\n"
      ]
    },
    {
      "cell_type": "code",
      "metadata": {
        "colab": {
          "base_uri": "https://localhost:8080/"
        },
        "id": "M4_fUAJq_pYo",
        "outputId": "a797f2fc-8165-4298-9e48-3ae8da2baeaa"
      },
      "source": [
        "N = 1000\n",
        "sample = np.random.choice([0, 1, 2], N)\n",
        "sample1 = np.random.choice([0, 1, 2], N)\n",
        "sample2 = np.random.choice([0, 1, 2], N)\n",
        "list = sample.tolist()\n",
        "list1 = sample1.tolist()\n",
        "list2 = sample2.tolist()\n",
        "list_3 = [i for i, j, k in zip(list, list_1, list_2) if i == j == 1 or j == k == 1 or i == k == 1]\n",
        "a = len(list_3)\n",
        "print(a/N)\n"
      ],
      "execution_count": 6,
      "outputs": [
        {
          "output_type": "stream",
          "text": [
            "0.184\n"
          ],
          "name": "stdout"
        }
      ]
    },
    {
      "cell_type": "code",
      "metadata": {
        "id": "caYrPWBd_OKM"
      },
      "source": [
        "# число исходов - 27. вероятность А = 7/27, вероятность В = 7/27"
      ],
      "execution_count": 7,
      "outputs": []
    },
    {
      "cell_type": "code",
      "metadata": {
        "id": "hPKcoJvFdepS"
      },
      "source": [
        ""
      ],
      "execution_count": 7,
      "outputs": []
    },
    {
      "cell_type": "markdown",
      "metadata": {
        "id": "peM38mVfYa5B"
      },
      "source": [
        "### Задача 4\n",
        "Брошено две игральных кости. Описать множество элементарных событий. Найти вероятности событий:\n",
        "\n",
        "A = {вышло две \"шестерки\"}\n",
        "\n",
        "B = {сумма выпавших очков не меньше 11}\n",
        "\n",
        "C = {не выпала ни одна \"шестерка\"}"
      ]
    },
    {
      "cell_type": "code",
      "metadata": {
        "id": "gUrupGS1depT",
        "colab": {
          "base_uri": "https://localhost:8080/"
        },
        "outputId": "caf47650-6faa-4519-bde2-6f269ad0a93a"
      },
      "source": [
        "N = 1000\n",
        "sample = np.random.choice([1, 2, 3, 4, 5, 6], N)\n",
        "sample1 = np.random.choice([1, 2, 3, 4, 5, 6], N)\n",
        "list = sample.tolist()\n",
        "list1 = sample1.tolist()\n",
        "list_2 = [i for i, j in zip(list, list_1) if i == j == 6]\n",
        "a = len(list_2)\n",
        "list_3 = [i for i, j in zip(list, list_1) if i != j != 6]\n",
        "b = len(list_3)\n",
        "list_4 = [i for i, j in zip(list, list_1) if (i + j) > 11]\n",
        "c = len(list_4)\n",
        "print(a/N)\n",
        "print(c/N)\n",
        "print(b/N)\n"
      ],
      "execution_count": 8,
      "outputs": [
        {
          "output_type": "stream",
          "text": [
            "0.0\n",
            "0.0\n",
            "0.922\n"
          ],
          "name": "stdout"
        }
      ]
    },
    {
      "cell_type": "code",
      "metadata": {
        "id": "kG3H6Aha4HiS"
      },
      "source": [
        "# число исходов - 36. А = 1/36, 3/36, 25/36"
      ],
      "execution_count": 9,
      "outputs": []
    },
    {
      "cell_type": "markdown",
      "metadata": {
        "id": "f-Bi0p8haclB"
      },
      "source": [
        "## Вероятность суммы событий"
      ]
    },
    {
      "cell_type": "markdown",
      "metadata": {
        "id": "g7A7QlvGTnwZ"
      },
      "source": [
        "### Задача 5\n",
        "Брошены две игральные кости. Найти вероятность события D = {выпала хотя бы одна шестёрка}\n"
      ]
    },
    {
      "cell_type": "code",
      "metadata": {
        "id": "vjtTJN-kUp9D",
        "colab": {
          "base_uri": "https://localhost:8080/"
        },
        "outputId": "688c1d9a-dab8-4bef-bad0-dad0812205e3"
      },
      "source": [
        "N = 1000\n",
        "sample = np.random.choice([1, 2, 3, 4, 5, 6], N)\n",
        "sample1 = np.random.choice([1, 2, 3, 4, 5, 6], N)\n",
        "list = sample.tolist()\n",
        "list1 = sample1.tolist()\n",
        "list_2 = [i for i, j in zip(list, list_1) if i == 6 or j == 6]\n",
        "a = len(list_2)\n",
        "print(a/N)"
      ],
      "execution_count": 10,
      "outputs": [
        {
          "output_type": "stream",
          "text": [
            "0.168\n"
          ],
          "name": "stdout"
        }
      ]
    },
    {
      "cell_type": "code",
      "metadata": {
        "id": "YUYq_OQd4_WY"
      },
      "source": [
        "# чило исходов - 36. вероятность - 11/36"
      ],
      "execution_count": 11,
      "outputs": []
    },
    {
      "cell_type": "markdown",
      "metadata": {
        "id": "R1bYSzQQbC6I"
      },
      "source": [
        "Предлагается также решить задачи: \n",
        "\n",
        "### Задача 6\n",
        "В телефонном номере три последние цифры стерлись. Считая, что все возможные значения стершихся цифр равновероятны, найти вероятность событий:\n",
        "\n",
        "A = {Стерлись различные цифры},\n",
        "\n",
        "B = {Стерлись одинаковые цифры},\n",
        "\n",
        "C = {Среди стершихся цифр хотя бы две совпадают},\n",
        "\n",
        "D = {Среди стершихся цифр хотя бы две различны}\n"
      ]
    },
    {
      "cell_type": "code",
      "metadata": {
        "id": "vP5YMw0KdepV",
        "colab": {
          "base_uri": "https://localhost:8080/"
        },
        "outputId": "bf07cbb4-d80f-4d5c-d82d-268d6f09defe"
      },
      "source": [
        "N = 100\n",
        "sample = np.random.choice([0, 1, 2, 3, 4, 5, 6, 7, 8, 9], N)\n",
        "sample1 = np.random.choice([0, 1, 2, 3, 4, 5, 6, 7, 8, 9], N)\n",
        "sample2 = np.random.choice([0, 1, 2, 3, 4, 5, 6, 7, 8, 9], N)\n",
        "list = sample.tolist()\n",
        "list1 = sample1.tolist()\n",
        "list2 = sample2.tolist()\n",
        "list_3 = [i for i, j, k in zip(list, list_1, list_2) if i != j != k] \n",
        "a = len(list_3)\n",
        "list_4 = [i for i, j, k in zip(list, list_1, list_2) if i == j == k] \n",
        "b = len(list_4)\n",
        "list_5 = [i for i, j, k in zip(list, list_1, list_2) if i == j or j == k or i ==j] \n",
        "c = len(list_5)\n",
        "list_6 = [i for i, j, k in zip(list, list_1, list_2) if i != j or j!= k or i !=j] \n",
        "d = len(list_6)\n",
        "print(a/N)\n",
        "print(b/N)\n",
        "print(c/N)\n",
        "print(d/N)"
      ],
      "execution_count": 41,
      "outputs": [
        {
          "output_type": "stream",
          "text": [
            "0.94\n",
            "0.0\n",
            "0.06\n",
            "1.0\n"
          ],
          "name": "stdout"
        }
      ]
    },
    {
      "cell_type": "markdown",
      "metadata": {
        "id": "RnugkR8BalK_"
      },
      "source": [
        "## Случайные величины"
      ]
    },
    {
      "cell_type": "markdown",
      "metadata": {
        "id": "yLoZDZ17UVsp"
      },
      "source": [
        "### Задача 7\n",
        "В лотерее имеется 10 билетов, из которых один выигрышный. Размер выигрыша 10 ден. ед.; стоимость билета 1 ден ед. Найти закон распределения случайной величины X, равной чистому выигрышу участника лотереи, который вытаскивает билет первым."
      ]
    },
    {
      "cell_type": "code",
      "metadata": {
        "id": "oNk432sKUqzT",
        "colab": {
          "base_uri": "https://localhost:8080/"
        },
        "outputId": "9038b70a-bca9-499c-d57f-5bd461a75622"
      },
      "source": [
        "# описала кол-во упехов, биномиальное распределение\n",
        "binomial_rv = sts.binom(10, 0.1)\n",
        "binomial_rv.rvs(10)\n",
        "\n"
      ],
      "execution_count": 12,
      "outputs": [
        {
          "output_type": "execute_result",
          "data": {
            "text/plain": [
              "array([1, 0, 0, 0, 2, 0, 1, 2, 0, 0])"
            ]
          },
          "metadata": {
            "tags": []
          },
          "execution_count": 12
        }
      ]
    },
    {
      "cell_type": "code",
      "metadata": {
        "colab": {
          "base_uri": "https://localhost:8080/",
          "height": 296
        },
        "id": "3mEtPXvpm46B",
        "outputId": "607b1b34-120d-4be0-9ff5-c9803506dc91"
      },
      "source": [
        "# если построить график функции распределения\n",
        "x = np.linspace(1,10,10)\n",
        "cdf = binomial_rv.cdf(x) \n",
        "plt.step(x, cdf)\n",
        "plt.ylabel(\"$F(x)$\")\n",
        "plt.xlabel(\"$x$\")\n",
        "plt.plot()"
      ],
      "execution_count": 13,
      "outputs": [
        {
          "output_type": "execute_result",
          "data": {
            "text/plain": [
              "[]"
            ]
          },
          "metadata": {
            "tags": []
          },
          "execution_count": 13
        },
        {
          "output_type": "display_data",
          "data": {
            "image/png": "[encoded data removed]",
            "text/plain": [
              "<Figure size 432x288 with 1 Axes>"
            ]
          },
          "metadata": {
            "tags": [],
            "needs_background": "light"
          }
        }
      ]
    },
    {
      "cell_type": "code",
      "metadata": {
        "id": "u9-5FrgSe_DS"
      },
      "source": [
        "# вероятность выигрыша = 1/10, соответственно, вероятность проигрыша 9/10. При данном условии выигрыш составит 9 ед. "
      ],
      "execution_count": 14,
      "outputs": []
    },
    {
      "cell_type": "markdown",
      "metadata": {
        "id": "U-NK9liSbpvb"
      },
      "source": [
        "Предлагается также решить задачу: \n",
        "\n",
        "### Задача 8\n",
        "Брошены две игральные кости. Найти закон распределения случайной величины $X$, равной сумме выпавших очков. Найти вероятности событий ${X <= 4}$, ${X > 4}$"
      ]
    },
    {
      "cell_type": "code",
      "metadata": {
        "id": "glohLsfMdepX",
        "colab": {
          "base_uri": "https://localhost:8080/"
        },
        "outputId": "3eec2fe1-1094-4484-dc98-6673ebf7845d"
      },
      "source": [
        "N = 1000\n",
        "M = 0\n",
        "sample = np.random.choice([1, 2, 3, 4, 5, 6], N)\n",
        "sample1 = np.random.choice([1, 2, 3, 4, 5, 6], N)\n",
        "list = sample.tolist()\n",
        "list1 = sample1.tolist()\n",
        "list2 = [x+y for x, y in zip(list, list1)]\n",
        "a = len(list2)\n",
        "b = (list2.count(2)+list2.count(3)+list2.count(4))\n",
        "c = a - b\n",
        "print(b/a)\n",
        "print(c/a)\n",
        "\n",
        "\n",
        "\n"
      ],
      "execution_count": 36,
      "outputs": [
        {
          "output_type": "stream",
          "text": [
            "0.158\n",
            "0.842\n"
          ],
          "name": "stdout"
        }
      ]
    },
    {
      "cell_type": "markdown",
      "metadata": {
        "id": "shgW4D83awjK"
      },
      "source": [
        "## Условные вероятности"
      ]
    },
    {
      "cell_type": "markdown",
      "metadata": {
        "id": "Fbu1RFZwWZrk"
      },
      "source": [
        "### Задача 9\n",
        "Из колоды (36 карт) вынимают последовательно без возвращения две карты. Найти вероятность того, что первой картой была шестерка, а второй — семерка. Найти условную вероятность того же события при условии, что обе карты бубновой масти.\n"
      ]
    },
    {
      "cell_type": "code",
      "metadata": {
        "id": "037o56awW9-E"
      },
      "source": [
        "# создаю и тасую колоду карт А - туз, J - валет, Q - королева, К - король\n",
        "def make_deck():\n",
        "    ranks = ['A', '2', '3', '4', '5', '6', '7', '8', '9', '10', 'J', 'Q', 'K']\n",
        "    suits = ['C', 'D', 'H', 'S']\n",
        "    deck  = []\n",
        "    for s in suits:\n",
        "        for r in ranks:\n",
        "            deck.append(s + r)\n",
        "        random_number.shuffle(deck)\n",
        "    return deck\n",
        "\n"
      ],
      "execution_count": 25,
      "outputs": []
    },
    {
      "cell_type": "code",
      "metadata": {
        "id": "f8_TH0ictth_"
      },
      "source": [
        "# выдаю 2 карты\n",
        "n = 2\n",
        "def deal_hand(n, deck):\n",
        "    hand = [deck[i] for i in range(n)]\n",
        "    del deck[:n]\n",
        "    return hand, deck"
      ],
      "execution_count": 26,
      "outputs": []
    },
    {
      "cell_type": "code",
      "metadata": {
        "colab": {
          "base_uri": "https://localhost:8080/",
          "height": 185
        },
        "id": "PTr3yPLpvAPK",
        "outputId": "61d7d44c-2bc8-4e03-fd80-032461947065"
      },
      "source": [
        "# очевидно, что в колоде осталось 34 карты и вероятность того, что 1 была 6 - 4/36, ф 2 7 4/35, но воссоздать в питоне не выходит"
      ],
      "execution_count": 18,
      "outputs": [
        {
          "output_type": "error",
          "ename": "NameError",
          "evalue": "ignored",
          "traceback": [
            "\u001b[0;31m---------------------------------------------------------------------------\u001b[0m",
            "\u001b[0;31mNameError\u001b[0m                                 Traceback (most recent call last)",
            "\u001b[0;32m<ipython-input-18-a3b71822ef7b>\u001b[0m in \u001b[0;36m<module>\u001b[0;34m()\u001b[0m\n\u001b[0;32m----> 1\u001b[0;31m \u001b[0mrandom\u001b[0m\u001b[0;34m.\u001b[0m\u001b[0mshuffle\u001b[0m\u001b[0;34m(\u001b[0m\u001b[0mcards\u001b[0m\u001b[0;34m)\u001b[0m\u001b[0;34m\u001b[0m\u001b[0;34m\u001b[0m\u001b[0m\n\u001b[0m\u001b[1;32m      2\u001b[0m \u001b[0mcard\u001b[0m \u001b[0;34m=\u001b[0m \u001b[0mcards\u001b[0m\u001b[0;34m.\u001b[0m\u001b[0mpop\u001b[0m\u001b[0;34m(\u001b[0m\u001b[0;34m)\u001b[0m\u001b[0;34m\u001b[0m\u001b[0;34m\u001b[0m\u001b[0m\n",
            "\u001b[0;31mNameError\u001b[0m: name 'random' is not defined"
          ]
        }
      ]
    },
    {
      "cell_type": "code",
      "metadata": {
        "id": "gJe6HM01uGqC"
      },
      "source": [
        ""
      ],
      "execution_count": null,
      "outputs": []
    },
    {
      "cell_type": "code",
      "metadata": {
        "id": "eMNIS9FBtsdE"
      },
      "source": [
        ""
      ],
      "execution_count": null,
      "outputs": []
    },
    {
      "cell_type": "markdown",
      "metadata": {
        "id": "hNVxtaz5c57b"
      },
      "source": [
        "Предлагается также решить задачу: \n",
        "\n",
        "### Задача 10\n",
        "Из урны, содержащей два белых и три черных шара, последовательно извлекают два шара; вынутые шары не возвращаются. Если первый шар оказался черным, то перед вторым извлечением в урну добавляют белый шар. В противном случае состав оставшихся шаров не меняют. Найти вероятности событий:\n",
        "\n",
        "$A$ = {извлечены два белых шара},\n",
        "\n",
        "$B$ = {извлечены два черных шара}\n",
        "\n",
        "Указание. Пусть событие $C_1$ = {первый шар белый}, событие $C_2$ = {второй шар белый}. Тогда $A = C_1C_2$, $B = \\overline C_1 \\overline C_2$ "
      ]
    },
    {
      "cell_type": "code",
      "metadata": {
        "id": "WSLnhk2sdBt_"
      },
      "source": [
        ""
      ],
      "execution_count": null,
      "outputs": []
    }
  ]
}